{
 "cells": [
  {
   "cell_type": "code",
   "execution_count": null,
   "id": "0034266f-b525-4fe3-bb6e-a257b6a72f40",
   "metadata": {},
   "outputs": [],
   "source": [
    "import dots"
   ]
  },
  {
   "cell_type": "code",
   "execution_count": null,
   "id": "88980d67-7b67-4c96-80da-98e1421cb1f8",
   "metadata": {},
   "outputs": [],
   "source": [
    "number_of_dots: int = 80\n",
    "total_dot_area = 28000\n",
    "desired_hull: float = 160000.0"
   ]
  },
  {
   "cell_type": "code",
   "execution_count": null,
   "id": "975a0708-6875-4ba0-a1f1-6f29ae718aef",
   "metadata": {},
   "outputs": [],
   "source": [
    "coords, radii = dots.generate_dots(number_of_dots, total_dot_area, desired_hull)\n",
    "image = dots.draw_dots(coords, radii)\n",
    "display(image)"
   ]
  },
  {
   "cell_type": "code",
   "execution_count": null,
   "id": "9317f634-0177-4da2-8c9e-396e87187e8c",
   "metadata": {},
   "outputs": [],
   "source": []
  }
 ],
 "metadata": {
  "kernelspec": {
   "display_name": "Python 3 (ipykernel)",
   "language": "python",
   "name": "python3"
  },
  "language_info": {
   "codemirror_mode": {
    "name": "ipython",
    "version": 3
   },
   "file_extension": ".py",
   "mimetype": "text/x-python",
   "name": "python",
   "nbconvert_exporter": "python",
   "pygments_lexer": "ipython3",
   "version": "3.13.0"
  }
 },
 "nbformat": 4,
 "nbformat_minor": 5
}
